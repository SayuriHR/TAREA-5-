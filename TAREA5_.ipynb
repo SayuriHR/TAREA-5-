{
  "nbformat": 4,
  "nbformat_minor": 0,
  "metadata": {
    "colab": {
      "name": "TAREA5 .ipynb",
      "provenance": []
    },
    "kernelspec": {
      "name": "python3",
      "display_name": "Python 3"
    },
    "language_info": {
      "name": "python"
    }
  },
  "cells": [
    {
      "cell_type": "markdown",
      "metadata": {
        "id": "2Z_HVPNpZo_b"
      },
      "source": [
        "# Tarea 5 \n",
        "## Hernández Rubio Daira Sayuri \n",
        "\n",
        "1.Hacer un programa que \n",
        "pida dos numeros enteros que imprima en pantalla lo siguiente: \n",
        "\n",
        "¿Cuál de ellos es el núemero mayor?\n",
        "\n",
        "¿Cuál de ellos es el número menor?\n",
        "\n",
        "o en su efecto \n",
        "\n",
        "¿Imprimir que los valores son iguales?"
      ]
    },
    {
      "cell_type": "code",
      "metadata": {
        "colab": {
          "base_uri": "https://localhost:8080/"
        },
        "id": "w9Xzl4Jbbbsv",
        "outputId": "8e7c6a52-c5e8-4d07-b6ee-0d06091533e3"
      },
      "source": [
        "numero1=int(input(\"Dame un numero entero:\"))\n",
        "numero2=int(input(\"Dame un segundo numero entero:\")) \n",
        "if numero1>numero2:\n",
        "    print(f\"El primer numero es el mayor: \\\"{numero1}\\\" \\ El segundo numero es el menor: \\\"{numero2}\\\"\")\n",
        "if numero1<numero2:\n",
        "    print(f\"El segundo numero es mayor: \\\"{numero2}\\\" \\ El primer numero es el menor: \\\"{numero1}\\\"\")\n",
        "else:\n",
        "    print(\"Los dos numeros son iguales\")\n"
      ],
      "execution_count": 20,
      "outputs": [
        {
          "output_type": "stream",
          "name": "stdout",
          "text": [
            "Dame un numero entero:15\n",
            "Dame un segundo numero entero:22\n",
            "El segundo numero es mayor: \"22\" \\ El primer numero es el menor: \"15\"\n"
          ]
        }
      ]
    },
    {
      "cell_type": "markdown",
      "metadata": {
        "id": "R6xgnxU4k0Xo"
      },
      "source": [
        "**2.** \n",
        "Hacer un programa que solicite 3 numeros enteros diferentes entre si y que imprima cual de los 3 es el mayor "
      ]
    },
    {
      "cell_type": "code",
      "metadata": {
        "colab": {
          "base_uri": "https://localhost:8080/"
        },
        "id": "Qn19TeFVlzhZ",
        "outputId": "bc2fdbb9-f3d8-4bcf-d795-83ade4d1a86d"
      },
      "source": [
        "N1=int(input(\"Dame un primer numero entero:\"))\n",
        "N2=int(input(\"Dame un segundo numero entero distinto del primero:\"))\n",
        "N3=int(input(\"Dame un tercer numero entero distinto del primero y el segundo:\"))\n",
        "if N1==N2==N3:\n",
        "    if N1==N2:\n",
        "        if N1==N3:\n",
        "            if N2==N3:\n",
        "                print(\"Tienen que ser tres numero diferentes\")\n",
        "else:\n",
        "    if N1>N2: \n",
        "        if N1>N3:\n",
        "            print(f\"El primer numero es el mayor:\\\"{N1}\\\"\")\n",
        "    if N2>N1:\n",
        "        if N2>N3:\n",
        "            print(f\"El segundo numero es el mayor:\\\"{N2}\\\"\")\n",
        "    if N3>N1:\n",
        "        if N3>N2:\n",
        "             print(f\"El tercer numero es el mayor:\\\"{N3}\\\"\")\n"
      ],
      "execution_count": 35,
      "outputs": [
        {
          "output_type": "stream",
          "name": "stdout",
          "text": [
            "Dame un primer numero entero:30\n",
            "Dame un segundo numero entero distinto del primero:32\n",
            "Dame un tercer numero entero distinto del primero y el segundo:12\n",
            "El segundo numero es el mayor:\"32\"\n"
          ]
        }
      ]
    },
    {
      "cell_type": "markdown",
      "metadata": {
        "id": "2_E3HlQsxy5F"
      },
      "source": [
        "**3.**\n",
        "Hacer un programa que solicite 3 números enteros diferentes entre sí y que imprima cuál de los 3 es el menor"
      ]
    },
    {
      "cell_type": "code",
      "metadata": {
        "colab": {
          "base_uri": "https://localhost:8080/"
        },
        "id": "DfsdqRRDx-Qc",
        "outputId": "b0ae4c24-3656-4d81-b959-64370d5d7537"
      },
      "source": [
        "N1=int(input(\"Dame un primer numero entero:\"))\n",
        "N2=int(input(\"Dame un segundo numero entero distinto del primero:\"))\n",
        "N3=int(input(\"Dame un tercer numero entero distinto del primero y el segundo:\"))\n",
        "if N1==N2==N3:\n",
        "    if N1==N2:\n",
        "        if N1==N3:\n",
        "            if N2==N3:\n",
        "                print(\"Tienen que ser tres numero diferentes\")\n",
        "else:\n",
        "    if N1<N2: \n",
        "        if N1<N3:\n",
        "            print(f\"El primer numero es el menor:\\\"{N1}\\\"\")\n",
        "    if N2<N1:\n",
        "        if N2<N3:\n",
        "            print(f\"El segundo numero es el menor:\\\"{N2}\\\"\")\n",
        "    if N3<N1:\n",
        "        if N3<N2:\n",
        "             print(f\"El tercer numero es el menor:\\\"{N3}\\\"\")\n"
      ],
      "execution_count": 38,
      "outputs": [
        {
          "output_type": "stream",
          "name": "stdout",
          "text": [
            "Dame un primer numero entero:85\n",
            "Dame un segundo numero entero distinto del primero:90\n",
            "Dame un tercer numero entero distinto del primero y el segundo:45\n",
            "El tercer numero es el menor:\"45\"\n"
          ]
        }
      ]
    },
    {
      "cell_type": "markdown",
      "metadata": {
        "id": "Wrk-OsmwzZ76"
      },
      "source": [
        "**3.**\n",
        "Hacer un programa que solicite 4 números enteros diferentes entre sí y que imprima a la salida cuál de ellos es el menor y cuál de ellos es el mayor\n"
      ]
    },
    {
      "cell_type": "code",
      "metadata": {
        "colab": {
          "base_uri": "https://localhost:8080/"
        },
        "id": "H8vhT8hmzXo3",
        "outputId": "587ae403-65c0-4b4b-f503-291b02f8a4d9"
      },
      "source": [
        "N1=int(input(\"Dame un primer numero entero: \"))\n",
        "N2=int(input(\"Dame un segundo numero entero distinto: \"))\n",
        "N3=int(input(\"Dame un tercer numero entero distinto: \"))\n",
        "N4=int(input(\"Dame un cuarto numero entero distinto: \"))\n",
        "if N1==N2==N3==N4: \n",
        "    if N1==N2:\n",
        "        if N1==N3:\n",
        "            if N1==N4:\n",
        "                if N2==N3:\n",
        "                    if N2==N4:\n",
        "                        if N3==N4:\n",
        "                            print(\"Tienen que ser cuatro numeros diferentes \")\n",
        "else:\n",
        "    if N1>N2:\n",
        "        if N1>N3:\n",
        "            if N1>N4:    \n",
        "                mayor=N1\n",
        "    if N2>N1:\n",
        "        if N2>N3:\n",
        "            if N2>N4:\n",
        "                mayor=N2\n",
        "    if N3>N1:\n",
        "        if N3>N2:\n",
        "            if N3>N4:\n",
        "                mayor=N3\n",
        "    if N4>N1:\n",
        "        if N4>N2:\n",
        "            if N4>N3:\n",
        "                mayor=N4\n",
        "\n",
        "    if N1<N2:\n",
        "        if N1<N3:\n",
        "            if N1<N4:   \n",
        "                menor=N1\n",
        "    if N2<N1: \n",
        "        if N2<N3:\n",
        "            if N2<N4:\n",
        "                 menor=N2\n",
        "    if N3<N1:\n",
        "         if N3<N2:\n",
        "             if N3<N4:\n",
        "                menor=N3\n",
        "    if N4<N1:\n",
        "        if N4<N2: \n",
        "            if N4<N3:\n",
        "                menor=N4\n",
        "print(\"El numero mayor es:\", mayor)\n",
        "print(\"El numero menor es :\", menor)"
      ],
      "execution_count": 41,
      "outputs": [
        {
          "output_type": "stream",
          "name": "stdout",
          "text": [
            "Dame un primer numero entero: 15\n",
            "Dame un segundo numero entero distinto: 17\n",
            "Dame un tercer numero entero distinto: 18\n",
            "Dame un cuarto numero entero distinto: 22\n",
            "El numero mayor es: 22\n",
            "El numero menor es : 15\n"
          ]
        }
      ]
    }
  ]
}